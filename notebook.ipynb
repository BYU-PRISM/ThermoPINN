{
 "cells": [
  {
   "cell_type": "markdown",
   "id": "8f662696",
   "metadata": {},
   "source": [
    "### ThemoPINN\n",
    "\n",
    "See [GitHub Source Code Repository](https://github.com/BYU-PRISM/ThermoPINN)\n",
    "\n",
    "Knotts, T., Hedengren, J.D., Babaei, M.R., Physics-Informed Deep Learning for Prediction of Thermophysical Properties: The Parachor Method for Surface Tension, AIChE Annual Meeting, Phoenix, AZ, Nov 13-18, 2022.\n",
    "\n",
    "Chemical thermophysical properties are needed for chemical handling, design of production and storage facilities, separations, and manufacture. The Design Institute for Physical Properties (DIPPR) was created in 1978 (under the direction of the American Institute of Chemical Engineers) and is the best source of critically evaluated thermophysical, safety, and environmental properties. When experimental data for a chemical is not available, DIPPR predicts the values for properties of that chemical. Creating more accurate and broadly applicable prediction methods for thermophysical properties is an area of constant research. One example of a relevant thermophysical property is normal boiling point (NBP).\n",
    "A set of 1600 compounds is utilized for training, validating, and testing a Physics-Informed Neural Network (PINN) to improve Normal Boiling Point (NBP) based on the group contribution methods [1]. Physics-informed deep learning seeks to improve predictive accuracy by incorporating physics-based information with machine learning. Standard artificial neural networks have a known weakness to extrapolation potential when used outside the training region. An artificial neural network not only produces a prediction, but also a self-assessment of uncertainty. The contributions to the parachor should be strictly additive in nature as it represents a volume of space a molecule occupies. However, the approaches mentioned above have several groups which are negative, suggesting a suboptimal optimization relating parachor to the groups. We recently combined machine learning (ML) with a physics-based constraint to achieve better predictions that any previous method for surface tension [2]. This presentation outlines additional progress with NBP with a comparison to other leading prediction methods. For compounds with Tb > 600 K, the PINN model yields 24.3◦C Mean Absolute Error (3.6% Mean Percentage Error), while this value for the Joback method is about 79.0◦C MAE (or 12% MPE). Across the results, predicted NPB for compounds containing silane and imine families are less accurate. NBP results further demonstrate that physics-based constraints with machine learning produce significant improvements in prediction methods for the thermophysical properties that are crucial in the field of chemical engineering.\n",
    "\n",
    "References Cited\n",
    "1. Ericksen, Wilding, W.V., Oscarson, J.L., and Rowley, R.L., Use of the DIPPR Database for Development of QSPR Correlations: Normal Boiling Point, J. Chem. Eng. Data 2002, 47, 5, 1293–1302, July, 2002 DOI: 10.1021/je0255372\n",
    "2. Knotts, T., Hedengren, J.D., Babaei, M.R., Physics-Informed Deep Learning for Prediction of Thermophysical Properties: The Parachor Method for Surface Tension, AIChE Annual Meeting, Phoenix, AZ, Nov 13-18, 2022."
   ]
  },
  {
   "cell_type": "markdown",
   "id": "e37dafb8",
   "metadata": {},
   "source": [
    "### Launch in Binder\n",
    "\n",
    "<a href='https://mybinder.org/v2/gh/BYU-PRISM/ThermoPINN/main?urlpath=voila%2Frender%2Fnotebook.ipynb'><img align=left width=100px src='https://camo.githubusercontent.com/581c077bdbc6ca6899c86d0acc6145ae85e9d80e6f805a1071793dbe48917982/68747470733a2f2f6d7962696e6465722e6f72672f62616467655f6c6f676f2e737667'></a>"
   ]
  },
  {
   "cell_type": "markdown",
   "id": "92cc22f5",
   "metadata": {},
   "source": [
    "Install `thermo`, `rdkit`, `ipyvuetify`, and `scikit-learn` (version <=1.2.0)"
   ]
  },
  {
   "cell_type": "code",
   "execution_count": 1,
   "id": "50eddf24",
   "metadata": {},
   "outputs": [],
   "source": [
    "#pip install thermo"
   ]
  },
  {
   "cell_type": "code",
   "execution_count": null,
   "id": "7542e2e0",
   "metadata": {},
   "outputs": [],
   "source": [
    "#pip install rdkit"
   ]
  },
  {
   "cell_type": "code",
   "execution_count": null,
   "id": "53d4b3ff",
   "metadata": {},
   "outputs": [],
   "source": [
    "#pip install ipyvuetify"
   ]
  },
  {
   "cell_type": "code",
   "execution_count": null,
   "id": "4d2374a4",
   "metadata": {},
   "outputs": [],
   "source": [
    "#pip install scikit-learn=1.2.0"
   ]
  },
  {
   "cell_type": "code",
   "execution_count": 2,
   "id": "5c18b760-f90e-4946-a2d0-6414fb00cade",
   "metadata": {},
   "outputs": [],
   "source": [
    "import pickle \n",
    "import numpy as np\n",
    "import pandas as pd\n",
    "import ipyvuetify as v\n",
    "\n",
    "import warnings\n",
    "warnings.filterwarnings(\"ignore\")\n",
    "from thermo import Joback\n",
    "\n",
    "import os\n",
    "os.environ['TF_CPP_MIN_LOG_LEVEL'] = '3' \n",
    "import tensorflow as tf"
   ]
  },
  {
   "cell_type": "code",
   "execution_count": 3,
   "id": "6c28c882-4632-469d-b1ce-6827b5c5bb5c",
   "metadata": {},
   "outputs": [],
   "source": [
    "def nbp_calc(smiles, family):\n",
    "    with open('hasher.pkl', 'rb') as file:\n",
    "        fh = pickle.load(file=file)\n",
    "    \n",
    "    with open('params_Final.pkl', 'rb') as file:\n",
    "        min_, max_ = pickle.load(file)\n",
    "\n",
    "    model = tf.keras.models.load_model('PINN_Final.h5')\n",
    "\n",
    "    smiles_code = smiles\n",
    "    J = Joback(smiles_code).counts\n",
    "\n",
    "    fga = np.zeros(40)\n",
    "    for key in J:\n",
    "        fga[key-1] = J[key]\n",
    "\n",
    "    family_val = fh.transform(np.array([family])).toarray()\n",
    "\n",
    "    X = np.array(family_val.tolist()[0] + fga.tolist())\n",
    "    x = (X-min_[:-1])/(max_[:-1] - min_[:-1]) \n",
    "    \n",
    "    yp = model(x.to_numpy()[None, :])[0]\n",
    "    Yp = yp*(max_[-1] - min_[-1]) + min_[-1]\n",
    "    \n",
    "    return Yp[0].numpy()\n"
   ]
  },
  {
   "cell_type": "code",
   "execution_count": 4,
   "id": "5f41999e-097d-41bc-879d-506ca1284274",
   "metadata": {},
   "outputs": [],
   "source": [
    "df_smiles = pd.read_csv('smf.csv')\n",
    "df_smiles.drop(columns='Unnamed: 0', inplace=True)\n",
    "df_family = df_smiles.drop_duplicates(subset='Family')[['Family']]"
   ]
  },
  {
   "cell_type": "code",
   "execution_count": 5,
   "id": "d8df41a0-0dd1-4464-8e95-1ee96198b97e",
   "metadata": {},
   "outputs": [
    {
     "data": {
      "application/vnd.jupyter.widget-view+json": {
       "model_id": "48d6e0cde2df432daee9806da92021bd",
       "version_major": 2,
       "version_minor": 0
      },
      "text/plain": [
       "App(children=[Card(children=[CardTitle(children=['Thermo-PINN']), Row(children=[Combobox(class_='mx-4', dark=T…"
      ]
     },
     "metadata": {},
     "output_type": "display_data"
    }
   ],
   "source": [
    "def guess_family(item, *args):\n",
    "    if item.v_model is None:\n",
    "        val = ['']\n",
    "    elif type(item.v_model) == list:\n",
    "        val = item.v_model[0]\n",
    "    else:\n",
    "        val = item.v_model\n",
    "\n",
    "    if val in df_smiles['smiles'].values:\n",
    "        family_field.v_model = df_smiles.loc[df_smiles['smiles']==val]['Family'].to_numpy().tolist()\n",
    "    \n",
    "    update()\n",
    "    \n",
    "def update(*args):\n",
    "    if ( (len(smiles_field.v_model) >= 1) + (len(family_field.v_model) >=1) ) == 2:\n",
    "        predict_btn.disabled = False\n",
    "    else:\n",
    "        predict_btn.disabled = True\n",
    "        \n",
    "def predict(item, *args):\n",
    "    \n",
    "    predict_btn.loading = True\n",
    "    \n",
    "    user_smiles = smiles_field.v_model\n",
    "    user_family = family_field.v_model[0]\n",
    "    \n",
    "    if type(user_smiles) == list:\n",
    "        user_smiles = user_smiles[0]\n",
    "        \n",
    "    nbp = nbp_calc(smiles=user_smiles, family=user_family)\n",
    "    \n",
    "    if nbp == -1000:\n",
    "        results.children = [\"SMILES Parsing Error! Please enter a valid SMILES value.\"]\n",
    "    else:\n",
    "        results.children = [f'Normal Boiling Point = {nbp-273.15 :.2f} degC']\n",
    "        \n",
    "    predict_btn.loading = False\n",
    "\n",
    "smiles_field = v.Combobox(label='Smiles', items=df_smiles[['smiles']].to_numpy().tolist(), v_model=[], class_='mx-4', dark=True, hide_details=True, hide_no_data=True, counter_value=5)\n",
    "family_field = v.Autocomplete(label='Family', items=df_family[['Family']].to_numpy().tolist(), v_model=[], class_='mx-4', dark=True, hide_no_data=True)\n",
    "predict_btn = v.Btn(children=['Predict'], color='orange lighten-1', dark=True, disabled=True)\n",
    "results = v.Text(children=[''], class_='align-right mt-2')\n",
    "\n",
    "smiles_field.on_event('change', guess_family)\n",
    "family_field.on_event('change', update)\n",
    "predict_btn.on_event('click', predict)\n",
    "\n",
    "selection_row = v.Row(children=[smiles_field, family_field])\n",
    "action_row = v.Row(children=[predict_btn, results], class_='mx-1 pb-2 justify-space-between')\n",
    "\n",
    "title = v.CardTitle(children=['Thermo-PINN'])\n",
    "app_card = v.Card(children=[title, selection_row, action_row], class_='pa-4 ma-4', dark=True, style_='max-width:600px')\n",
    "\n",
    "app = v.App(children=[app_card])\n",
    "app"
   ]
  }
 ],
 "metadata": {
  "kernelspec": {
   "display_name": "Python 3 (ipykernel)",
   "language": "python",
   "name": "python3"
  },
  "language_info": {
   "codemirror_mode": {
    "name": "ipython",
    "version": 3
   },
   "file_extension": ".py",
   "mimetype": "text/x-python",
   "name": "python",
   "nbconvert_exporter": "python",
   "pygments_lexer": "ipython3",
   "version": "3.9.13"
  }
 },
 "nbformat": 4,
 "nbformat_minor": 5
}
